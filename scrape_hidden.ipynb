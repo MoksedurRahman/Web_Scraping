{
 "cells": [
  {
   "cell_type": "code",
   "execution_count": 32,
   "metadata": {},
   "outputs": [],
   "source": [
    "from selenium.webdriver.common.by import By\n",
    "from selenium import webdriver\n",
    "import time\n",
    "#https://www.analyticsvidhya.com/blog/2021/06/web-scraping-with-python-beautifulsoup-library/\n",
    "#https://python.gotrained.com/scraping-facebook-posts-comments/"
   ]
  },
  {
   "cell_type": "code",
   "execution_count": 36,
   "metadata": {},
   "outputs": [
    {
     "name": "stderr",
     "output_type": "stream",
     "text": [
      "C:\\Users\\mokse\\AppData\\Local\\Temp/ipykernel_7640/248272682.py:6: DeprecationWarning: executable_path has been deprecated, please pass in a Service object\n",
      "  driver = webdriver.Chrome(\"c:\\\\chromedriver.exe\")\n"
     ]
    },
    {
     "name": "stdout",
     "output_type": "stream",
     "text": [
      "==========Description============\n",
      "Situé dans un pôle logistique majeur du nord de la région parisienne, nous vous proposons à la location un ensemble de deux cellules logistiques d’une surface totale de 5  940 m² accompagnés de 350 m² de bureaux récemment rénovés. \n",
      "Ce bâtiment est directement accessible depuis l’autoroute A1, reliant Paris et le Nord de la France, en jonction avec la Francilienne et se situe à 8 minutes de Roissy CDG.\n",
      "- Frais de rédaction de bail à prévoir, à la charge du preneur\n",
      "\n",
      "==========Prestations & Services============\n",
      "ICPE : 1510, 1530, 2910, 2925, 1532\n",
      "Site clôturé\n",
      "Aire de manoeuvre : 35 m\n",
      "Entrepôt :\n",
      "Etat des locaux : Rénové\n",
      "Sprinkler ESFR - APSAD\n",
      "Charpente : Béton\n",
      "Pas de salle de charge\n",
      "Hauteur sous plafond : 9,5m\n",
      "Charge/sol : 5 T/m²\n",
      "1 accès plain pied\n",
      "7 accès à quai\n",
      "\n",
      "==========Name============\n",
      "Fabrice Basnier\n",
      "\n",
      "==========Contact============\n",
      "01 73 06 09 10\n"
     ]
    }
   ],
   "source": [
    "\n",
    "\n",
    "url = \"https://immobilier.jll.fr/location-entrepot/entrepot-a-louer-marly-la-ville-95670-667005\"\n",
    "\n",
    "def get_hidden_text():\n",
    "    # Here is the path of Webdriver\n",
    "    #driver = webdriver.Chrome(\"\")\n",
    "    driver = webdriver.Chrome(\"c:\\\\chromedriver.exe\")\n",
    "    driver.get(url)\n",
    "    \n",
    "    #Description\n",
    "    print()\n",
    "    print('==========Description============')\n",
    "    button = driver.find_element(By.CLASS_NAME, \"ToggleContentButton\")\n",
    "    driver.execute_script(\"arguments[0].click();\", button)\n",
    "    time.sleep(5)\n",
    "    # descriptions=driver.find_element(By.CLASS_NAME,'ToggleContent__inner').text\n",
    "    # print(descriptions)\n",
    "    \n",
    "    descriptions=driver.find_element(By.CLASS_NAME,'ToggleContent__inner')\n",
    "    elements = descriptions.find_elements(By.TAG_NAME, 'p')\n",
    "    for e in elements:\n",
    "        print(e.text)\n",
    "    print()\n",
    "    \n",
    "    #Prestations & Services\n",
    "    print('==========Prestations & Services============')\n",
    "    Services = driver.find_element(By.CLASS_NAME, \"PropertyDetailsPage__collapse-toggle\")\n",
    "    driver.execute_script(\"arguments[0].click();\", Services)\n",
    "    \n",
    "    time.sleep(5)\n",
    "    Services_text=driver.find_element(By.CLASS_NAME,'TickList')\n",
    "    elements = Services_text.find_elements(By.TAG_NAME, 'li')\n",
    "    for e in elements:\n",
    "        print(e.text)\n",
    "    print()\n",
    "    \n",
    "    #Name    \n",
    "    print('==========Name============')\n",
    "    time.sleep(5)\n",
    "    BrokersDetails__name=driver.find_element(By.CLASS_NAME,'BrokersDetails__name').text\n",
    "    print(BrokersDetails__name)\n",
    "    print()\n",
    "    \n",
    "    #Contact\n",
    "    print('==========Contact============')\n",
    "    time.sleep(5)\n",
    "    BrokersDetails__telephone=driver.find_element(By.CLASS_NAME,'BrokersDetails__button--telephone').text\n",
    "    print(BrokersDetails__telephone)\n",
    "get_hidden_text()"
   ]
  }
 ],
 "metadata": {
  "interpreter": {
   "hash": "63fd5069d213b44bf678585dea6b12cceca9941eaf7f819626cde1f2670de90d"
  },
  "kernelspec": {
   "display_name": "Python 3.9.7 64-bit",
   "language": "python",
   "name": "python3"
  },
  "language_info": {
   "codemirror_mode": {
    "name": "ipython",
    "version": 3
   },
   "file_extension": ".py",
   "mimetype": "text/x-python",
   "name": "python",
   "nbconvert_exporter": "python",
   "pygments_lexer": "ipython3",
   "version": "3.9.7"
  },
  "orig_nbformat": 4
 },
 "nbformat": 4,
 "nbformat_minor": 2
}
