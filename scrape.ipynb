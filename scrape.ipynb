{
 "cells": [
  {
   "cell_type": "code",
   "execution_count": 1,
   "metadata": {},
   "outputs": [],
   "source": [
    "import requests\n",
    "from bs4 import BeautifulSoup"
   ]
  },
  {
   "cell_type": "code",
   "execution_count": 4,
   "metadata": {},
   "outputs": [
    {
     "data": {
      "text/plain": [
       "<!DOCTYPE html>\n",
       "<!--[if lt IE 7]> <html class=\"no-js ie6 oldie\" lang=\"en-US\"> <![endif]--><!--[if IE 7]>    <html class=\"no-js ie7 oldie\" lang=\"en-US\"> <![endif]--><!--[if IE 8]>    <html class=\"no-js ie8 oldie\" lang=\"en-US\"> <![endif]--><!--[if gt IE 8]><!--><html class=\"no-js\" lang=\"en-US\"> <!--<![endif]-->\n",
       "<head>\n",
       "<title>Access denied | www.g2.com used Cloudflare to restrict access</title>\n",
       "<meta charset=\"utf-8\"/>\n",
       "<meta content=\"text/html; charset=utf-8\" http-equiv=\"Content-Type\"/>\n",
       "<meta content=\"IE=Edge,chrome=1\" http-equiv=\"X-UA-Compatible\"/>\n",
       "<meta content=\"noindex, nofollow\" name=\"robots\"/>\n",
       "<meta content=\"width=device-width,initial-scale=1\" name=\"viewport\"/>\n",
       "<link href=\"/cdn-cgi/styles/main.css\" id=\"cf_styles-css\" media=\"screen,projection\" rel=\"stylesheet\" type=\"text/css\"/>\n",
       "<script type=\"text/javascript\">\n",
       "(function(){if(document.addEventListener&&window.XMLHttpRequest&&JSON&&JSON.stringify){var e=function(a){var c=document.getElementById(\"error-feedback-survey\"),d=document.getElementById(\"error-feedback-success\"),b=new XMLHttpRequest;a={event:\"feedback clicked\",properties:{errorCode:1020,helpful:a,version:1}};b.open(\"POST\",\"https://sparrow.cloudflare.com/api/v1/event\");b.setRequestHeader(\"Content-Type\",\"application/json\");b.setRequestHeader(\"Sparrow-Source-Key\",\"c771f0e4b54944bebf4261d44bd79a1e\");\n",
       "b.send(JSON.stringify(a));c.classList.add(\"feedback-hidden\");d.classList.remove(\"feedback-hidden\")};document.addEventListener(\"DOMContentLoaded\",function(){var a=document.getElementById(\"error-feedback\"),c=document.getElementById(\"feedback-button-yes\"),d=document.getElementById(\"feedback-button-no\");\"classList\"in a&&(a.classList.remove(\"feedback-hidden\"),c.addEventListener(\"click\",function(){e(!0)}),d.addEventListener(\"click\",function(){e(!1)}))})}})();\n",
       "</script>\n",
       "<script defer=\"\" src=\"https://api.radar.cloudflare.com/beacon.js\"></script>\n",
       "<script async=\"\" src=\"/cdn-cgi/bm/cv/669835187/api.js\"></script></head>\n",
       "<body>\n",
       "<div id=\"cf-wrapper\">\n",
       "<div class=\"cf-alert cf-alert-error cf-cookie-error hidden\" data-translate=\"enable_cookies\" id=\"cookie-alert\">Please enable cookies.</div>\n",
       "<div class=\"p-0\" id=\"cf-error-details\">\n",
       "<header class=\"mx-auto pt-10 lg:pt-6 lg:px-8 w-240 lg:w-full mb-15 antialiased\">\n",
       "<h1 class=\"inline-block md:block mr-2 md:mb-2 font-light text-60 md:text-3xl text-black-dark leading-tight\">\n",
       "<span data-translate=\"error\">Error</span>\n",
       "<span>1020</span>\n",
       "</h1>\n",
       "<span class=\"inline-block md:block heading-ray-id font-mono text-15 lg:text-sm lg:leading-relaxed\">Ray ID: 6e2777d778c54d7b •</span>\n",
       "<span class=\"inline-block md:block heading-ray-id font-mono text-15 lg:text-sm lg:leading-relaxed\">2022-02-24 08:54:14 UTC</span>\n",
       "<h2 class=\"text-gray-600 leading-1.3 text-3xl lg:text-2xl font-light\">Access denied</h2>\n",
       "</header>\n",
       "<section class=\"w-240 lg:w-full mx-auto mb-8 lg:px-8\">\n",
       "<div class=\"w-1/2 md:w-full\" id=\"what-happened-section\">\n",
       "<h2 class=\"text-3xl leading-tight font-normal mb-4 text-black-dark antialiased\" data-translate=\"what_happened\">What happened?</h2>\n",
       "<p>This website is using a security service to protect itself from online attacks.</p>\n",
       "</div>\n",
       "</section>\n",
       "<div class=\"feedback-hidden py-8 text-center\" id=\"error-feedback\">\n",
       "<div id=\"error-feedback-survey\">\n",
       "            Was this page helpful?\n",
       "            <button class=\"border border-solid bg-white cf-button cursor-pointer ml-4 px-4 py-2 rounded\" id=\"feedback-button-yes\" type=\"button\">Yes</button>\n",
       "<button class=\"border border-solid bg-white cf-button cursor-pointer ml-4 px-4 py-2 rounded\" id=\"feedback-button-no\" type=\"button\">No</button>\n",
       "</div>\n",
       "<div class=\"feedback-success feedback-hidden\" id=\"error-feedback-success\">\n",
       "            Thank you for your feedback!\n",
       "         </div>\n",
       "</div>\n",
       "<div class=\"cf-error-footer cf-wrapper w-240 lg:w-full py-10 sm:py-4 sm:px-8 mx-auto text-center sm:text-left border-solid border-0 border-t border-gray-300\">\n",
       "<p class=\"text-13\">\n",
       "<span class=\"cf-footer-item sm:block sm:mb-1\">Cloudflare Ray ID: <strong class=\"font-semibold\">6e2777d778c54d7b</strong></span>\n",
       "<span class=\"cf-footer-separator sm:hidden\">•</span>\n",
       "<span class=\"cf-footer-item sm:block sm:mb-1\"><span>Your IP</span>: 45.127.245.44</span>\n",
       "<span class=\"cf-footer-separator sm:hidden\">•</span>\n",
       "<span class=\"cf-footer-item sm:block sm:mb-1\"><span>Performance &amp; security by</span> <a href=\"https://www.cloudflare.com/5xx-error-landing\" id=\"brand_link\" rel=\"noopener noreferrer\" target=\"_blank\">Cloudflare</a></span>\n",
       "</p>\n",
       "</div><!-- /.error-footer -->\n",
       "</div><!-- /#cf-error-details -->\n",
       "</div><!-- /#cf-wrapper -->\n",
       "<script type=\"text/javascript\">\n",
       "  window._cf_translation = {};\n",
       "  \n",
       "  \n",
       "</script>\n",
       "<script type=\"text/javascript\">(function(){window['__CF$cv$params']={r:'6e2777d778c54d7b',m:'Jm4.lSor0QqK_EqYG6Pp_aIY23JpQ_i5jiqbnLvVmiY-1645692854-0-AdLYa4VrVTJR5W4ZGrwKZdhNnUx9cWaU59dA1wzN7aOEmmDQXPGWYfNRAUGSxPDEheL+JEBkdNd6i/uwgFNIVOiobGBJdwtBZq/4Fu7cA+CLa01JwC+U5yiLGV8fTh083Xr4j+kPInG6DNp6HpqVhLa4wbnoW807gCEpdfYXFq1lqXFYX5zLCpEGRO5hXRe2ZA==',s:[0x7bb886cfca,0xb33f8ccbc5],}})();</script></body>\n",
       "</html>"
      ]
     },
     "execution_count": 4,
     "metadata": {},
     "output_type": "execute_result"
    }
   ],
   "source": [
    "res = requests.get(r'https://www.g2.com/categories/learning-management-system-lms?page=3')\n",
    "page = BeautifulSoup(res.content,'lxml')\n",
    "page"
   ]
  },
  {
   "cell_type": "code",
   "execution_count": 75,
   "metadata": {},
   "outputs": [
    {
     "name": "stdout",
     "output_type": "stream",
     "text": [
      "Équipements\n",
      "Charge au sol :2 T/m²\n",
      "Climatisation réversible\n",
      "Façade bardage double peau\n",
      "Porte sectionnelle :3.15 m x 3.50 m\n",
      "RT2012\n",
      "Type de charpente :métallique \n",
      "[<ul>\n",
      "<li>Charge au sol :2 T/m²</li>\n",
      "<li>Climatisation réversible</li>\n",
      "<li>Façade bardage double peau</li>\n",
      "<li>Porte sectionnelle :3.15 m x 3.50 m</li>\n",
      "<li>RT2012</li>\n",
      "<li>Type de charpente :métallique </li>\n",
      "</ul>]\n",
      "\n",
      "\n",
      "HSP : de 5.50 à 6 m\n",
      "Isolation renforcée\n",
      "Protection incendie\n",
      "Chauffage électrique\n",
      "Désenfumage conforme à la réglementation\n",
      "Eclairage full LED\n",
      "Certification BREEAM\n",
      "\n"
     ]
    }
   ],
   "source": [
    "h2_tag = page.find_all(\"h2\", class_=\"equipment\")\n",
    "for node in page.findAll(\"h2\", class_=\"equipment\"):\n",
    "    print(''.join(node.findAll(text=True)))\n",
    "for ul_values in h2_tag:\n",
    "    ul_sib= ul_values.find_next_siblings('ul')\n",
    "    lisst =list(ul_sib)\n",
    "    lis = []\n",
    "    for ul in lisst:\n",
    "        for li in ul.findAll('li'):\n",
    "            if li.find('ul'):\n",
    "                break\n",
    "            lis.append(li)\n",
    "   # print(lis)\n",
    "    for lii in lis:\n",
    "       print(lii.text)\n",
    "       #print(lii.text.encode(\"UTF-8\"))\n",
    "    print(ul_sib) #Équipements\n",
    "    \n",
    "    # Get all values after br tag\n",
    "    for br_text in ul_values.find_next_siblings(text=True):\n",
    "        print(br_text.strip())"
   ]
  },
  {
   "cell_type": "code",
   "execution_count": 32,
   "metadata": {},
   "outputs": [
    {
     "ename": "AttributeError",
     "evalue": "'str' object has no attribute 'ul'",
     "output_type": "error",
     "traceback": [
      "\u001b[1;31m---------------------------------------------------------------------------\u001b[0m",
      "\u001b[1;31mAttributeError\u001b[0m                            Traceback (most recent call last)",
      "\u001b[1;32m~\\AppData\\Local\\Temp/ipykernel_15344/1465513695.py\u001b[0m in \u001b[0;36m<module>\u001b[1;34m\u001b[0m\n\u001b[0;32m      7\u001b[0m \u001b[1;33m<\u001b[0m\u001b[0mli\u001b[0m\u001b[1;33m>\u001b[0m\u001b[0mType\u001b[0m \u001b[0mde\u001b[0m \u001b[0mcharpente\u001b[0m \u001b[1;33m:\u001b[0m\u001b[0mmétallique\u001b[0m \u001b[1;33m<\u001b[0m\u001b[1;33m/\u001b[0m\u001b[0mli\u001b[0m\u001b[1;33m>\u001b[0m\u001b[1;33m\u001b[0m\u001b[1;33m\u001b[0m\u001b[0m\n\u001b[0;32m      8\u001b[0m </ul> '''\n\u001b[1;32m----> 9\u001b[1;33m \u001b[0malltag\u001b[0m\u001b[1;33m.\u001b[0m\u001b[0mul\u001b[0m\u001b[1;33m.\u001b[0m\u001b[0mli\u001b[0m\u001b[1;33m\u001b[0m\u001b[1;33m\u001b[0m\u001b[0m\n\u001b[0m",
      "\u001b[1;31mAttributeError\u001b[0m: 'str' object has no attribute 'ul'"
     ]
    }
   ],
   "source": [
    "alltag = ''' <ul>\n",
    "<li>Charge au sol :2 T/m²</li>\n",
    "<li>Climatisation réversible</li>\n",
    "<li>Façade bardage double peau</li>\n",
    "<li>Porte sectionnelle :3.15 m x 3.50 m</li>\n",
    "<li>RT2012</li>\n",
    "<li>Type de charpente :métallique </li>\n",
    "</ul> '''\n",
    "alltag.ul.li"
   ]
  },
  {
   "cell_type": "code",
   "execution_count": 4,
   "metadata": {},
   "outputs": [
    {
     "ename": "AttributeError",
     "evalue": "'NoneType' object has no attribute 'find_next_sibling'",
     "output_type": "error",
     "traceback": [
      "\u001b[1;31m---------------------------------------------------------------------------\u001b[0m",
      "\u001b[1;31mAttributeError\u001b[0m                            Traceback (most recent call last)",
      "\u001b[1;32m~\\AppData\\Local\\Temp/ipykernel_15344/845990827.py\u001b[0m in \u001b[0;36m<module>\u001b[1;34m\u001b[0m\n\u001b[0;32m      3\u001b[0m     \u001b[0mul_sib\u001b[0m\u001b[1;33m=\u001b[0m \u001b[0mul_values\u001b[0m\u001b[1;33m.\u001b[0m\u001b[0mfind_next_siblings\u001b[0m\u001b[1;33m(\u001b[0m\u001b[1;34m'ul'\u001b[0m\u001b[1;33m)\u001b[0m\u001b[1;33m\u001b[0m\u001b[1;33m\u001b[0m\u001b[0m\n\u001b[0;32m      4\u001b[0m     \u001b[0muls\u001b[0m \u001b[1;33m=\u001b[0m \u001b[0mul_values\u001b[0m\u001b[1;33m.\u001b[0m\u001b[0mul\u001b[0m\u001b[1;33m\u001b[0m\u001b[1;33m\u001b[0m\u001b[0m\n\u001b[1;32m----> 5\u001b[1;33m     \u001b[0mprint\u001b[0m\u001b[1;33m(\u001b[0m\u001b[0muls\u001b[0m\u001b[1;33m.\u001b[0m\u001b[0mfind_next_sibling\u001b[0m\u001b[1;33m(\u001b[0m\u001b[1;34m'ul'\u001b[0m\u001b[1;33m)\u001b[0m\u001b[1;33m)\u001b[0m\u001b[1;33m\u001b[0m\u001b[1;33m\u001b[0m\u001b[0m\n\u001b[0m\u001b[0;32m      6\u001b[0m     \u001b[0mprint\u001b[0m\u001b[1;33m(\u001b[0m\u001b[0mul_sib\u001b[0m\u001b[1;33m)\u001b[0m \u001b[1;31m#Équipements\u001b[0m\u001b[1;33m\u001b[0m\u001b[1;33m\u001b[0m\u001b[0m\n\u001b[0;32m      7\u001b[0m \u001b[1;33m\u001b[0m\u001b[0m\n",
      "\u001b[1;31mAttributeError\u001b[0m: 'NoneType' object has no attribute 'find_next_sibling'"
     ]
    }
   ],
   "source": [
    "h2_tag = page.find_all(\"div\", class_=\"1\")\n",
    "for ul_values in h2_tag:\n",
    "    ul_sib= ul_values.find_next_siblings('ul')\n",
    "    uls = ul_values.ul\n",
    "    \n",
    "    print(uls.find_next_sibling('ul'))\n",
    "    print(ul_sib) #Équipements\n",
    "    \n",
    "    # for tag in ul_sib.find_all(\"li\", recursive=True): \n",
    "    #     print(tag.text)\n",
    "    \n",
    "    # Get all values after br tag\n",
    "    for br_text in ul_values.find_next_siblings(text=True):\n",
    "        print(br_text.strip())"
   ]
  }
 ],
 "metadata": {
  "interpreter": {
   "hash": "63fd5069d213b44bf678585dea6b12cceca9941eaf7f819626cde1f2670de90d"
  },
  "kernelspec": {
   "display_name": "Python 3.9.7 64-bit",
   "language": "python",
   "name": "python3"
  },
  "language_info": {
   "codemirror_mode": {
    "name": "ipython",
    "version": 3
   },
   "file_extension": ".py",
   "mimetype": "text/x-python",
   "name": "python",
   "nbconvert_exporter": "python",
   "pygments_lexer": "ipython3",
   "version": "3.9.7"
  },
  "orig_nbformat": 4
 },
 "nbformat": 4,
 "nbformat_minor": 2
}
