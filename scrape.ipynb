{
 "cells": [
  {
   "cell_type": "code",
   "execution_count": 1,
   "metadata": {},
   "outputs": [],
   "source": [
    "import requests\n",
    "from bs4 import BeautifulSoup"
   ]
  },
  {
   "cell_type": "code",
   "execution_count": 2,
   "metadata": {},
   "outputs": [],
   "source": [
    "res = requests.get(r'https://www.tournymeyer.fr/offre/local-dactivites-5796m2-divisible-328-m2-minimum/')\n",
    "page = BeautifulSoup(res.content,'lxml')"
   ]
  },
  {
   "cell_type": "code",
   "execution_count": 75,
   "metadata": {},
   "outputs": [
    {
     "name": "stdout",
     "output_type": "stream",
     "text": [
      "Équipements\n",
      "Charge au sol :2 T/m²\n",
      "Climatisation réversible\n",
      "Façade bardage double peau\n",
      "Porte sectionnelle :3.15 m x 3.50 m\n",
      "RT2012\n",
      "Type de charpente :métallique \n",
      "[<ul>\n",
      "<li>Charge au sol :2 T/m²</li>\n",
      "<li>Climatisation réversible</li>\n",
      "<li>Façade bardage double peau</li>\n",
      "<li>Porte sectionnelle :3.15 m x 3.50 m</li>\n",
      "<li>RT2012</li>\n",
      "<li>Type de charpente :métallique </li>\n",
      "</ul>]\n",
      "\n",
      "\n",
      "HSP : de 5.50 à 6 m\n",
      "Isolation renforcée\n",
      "Protection incendie\n",
      "Chauffage électrique\n",
      "Désenfumage conforme à la réglementation\n",
      "Eclairage full LED\n",
      "Certification BREEAM\n",
      "\n"
     ]
    }
   ],
   "source": [
    "h2_tag = page.find_all(\"h2\", class_=\"equipment\")\n",
    "for node in page.findAll(\"h2\", class_=\"equipment\"):\n",
    "    print(''.join(node.findAll(text=True)))\n",
    "for ul_values in h2_tag:\n",
    "    ul_sib= ul_values.find_next_siblings('ul')\n",
    "    lisst =list(ul_sib)\n",
    "    lis = []\n",
    "    for ul in lisst:\n",
    "        for li in ul.findAll('li'):\n",
    "            if li.find('ul'):\n",
    "                break\n",
    "            lis.append(li)\n",
    "   # print(lis)\n",
    "    for lii in lis:\n",
    "       print(lii.text)\n",
    "       #print(lii.text.encode(\"UTF-8\"))\n",
    "    print(ul_sib) #Équipements\n",
    "    \n",
    "    # Get all values after br tag\n",
    "    for br_text in ul_values.find_next_siblings(text=True):\n",
    "        print(br_text.strip())"
   ]
  },
  {
   "cell_type": "code",
   "execution_count": 32,
   "metadata": {},
   "outputs": [
    {
     "ename": "AttributeError",
     "evalue": "'str' object has no attribute 'ul'",
     "output_type": "error",
     "traceback": [
      "\u001b[1;31m---------------------------------------------------------------------------\u001b[0m",
      "\u001b[1;31mAttributeError\u001b[0m                            Traceback (most recent call last)",
      "\u001b[1;32m~\\AppData\\Local\\Temp/ipykernel_15344/1465513695.py\u001b[0m in \u001b[0;36m<module>\u001b[1;34m\u001b[0m\n\u001b[0;32m      7\u001b[0m \u001b[1;33m<\u001b[0m\u001b[0mli\u001b[0m\u001b[1;33m>\u001b[0m\u001b[0mType\u001b[0m \u001b[0mde\u001b[0m \u001b[0mcharpente\u001b[0m \u001b[1;33m:\u001b[0m\u001b[0mmétallique\u001b[0m \u001b[1;33m<\u001b[0m\u001b[1;33m/\u001b[0m\u001b[0mli\u001b[0m\u001b[1;33m>\u001b[0m\u001b[1;33m\u001b[0m\u001b[1;33m\u001b[0m\u001b[0m\n\u001b[0;32m      8\u001b[0m </ul> '''\n\u001b[1;32m----> 9\u001b[1;33m \u001b[0malltag\u001b[0m\u001b[1;33m.\u001b[0m\u001b[0mul\u001b[0m\u001b[1;33m.\u001b[0m\u001b[0mli\u001b[0m\u001b[1;33m\u001b[0m\u001b[1;33m\u001b[0m\u001b[0m\n\u001b[0m",
      "\u001b[1;31mAttributeError\u001b[0m: 'str' object has no attribute 'ul'"
     ]
    }
   ],
   "source": [
    "alltag = ''' <ul>\n",
    "<li>Charge au sol :2 T/m²</li>\n",
    "<li>Climatisation réversible</li>\n",
    "<li>Façade bardage double peau</li>\n",
    "<li>Porte sectionnelle :3.15 m x 3.50 m</li>\n",
    "<li>RT2012</li>\n",
    "<li>Type de charpente :métallique </li>\n",
    "</ul> '''\n",
    "alltag.ul.li"
   ]
  },
  {
   "cell_type": "code",
   "execution_count": 4,
   "metadata": {},
   "outputs": [
    {
     "ename": "AttributeError",
     "evalue": "'NoneType' object has no attribute 'find_next_sibling'",
     "output_type": "error",
     "traceback": [
      "\u001b[1;31m---------------------------------------------------------------------------\u001b[0m",
      "\u001b[1;31mAttributeError\u001b[0m                            Traceback (most recent call last)",
      "\u001b[1;32m~\\AppData\\Local\\Temp/ipykernel_15344/845990827.py\u001b[0m in \u001b[0;36m<module>\u001b[1;34m\u001b[0m\n\u001b[0;32m      3\u001b[0m     \u001b[0mul_sib\u001b[0m\u001b[1;33m=\u001b[0m \u001b[0mul_values\u001b[0m\u001b[1;33m.\u001b[0m\u001b[0mfind_next_siblings\u001b[0m\u001b[1;33m(\u001b[0m\u001b[1;34m'ul'\u001b[0m\u001b[1;33m)\u001b[0m\u001b[1;33m\u001b[0m\u001b[1;33m\u001b[0m\u001b[0m\n\u001b[0;32m      4\u001b[0m     \u001b[0muls\u001b[0m \u001b[1;33m=\u001b[0m \u001b[0mul_values\u001b[0m\u001b[1;33m.\u001b[0m\u001b[0mul\u001b[0m\u001b[1;33m\u001b[0m\u001b[1;33m\u001b[0m\u001b[0m\n\u001b[1;32m----> 5\u001b[1;33m     \u001b[0mprint\u001b[0m\u001b[1;33m(\u001b[0m\u001b[0muls\u001b[0m\u001b[1;33m.\u001b[0m\u001b[0mfind_next_sibling\u001b[0m\u001b[1;33m(\u001b[0m\u001b[1;34m'ul'\u001b[0m\u001b[1;33m)\u001b[0m\u001b[1;33m)\u001b[0m\u001b[1;33m\u001b[0m\u001b[1;33m\u001b[0m\u001b[0m\n\u001b[0m\u001b[0;32m      6\u001b[0m     \u001b[0mprint\u001b[0m\u001b[1;33m(\u001b[0m\u001b[0mul_sib\u001b[0m\u001b[1;33m)\u001b[0m \u001b[1;31m#Équipements\u001b[0m\u001b[1;33m\u001b[0m\u001b[1;33m\u001b[0m\u001b[0m\n\u001b[0;32m      7\u001b[0m \u001b[1;33m\u001b[0m\u001b[0m\n",
      "\u001b[1;31mAttributeError\u001b[0m: 'NoneType' object has no attribute 'find_next_sibling'"
     ]
    }
   ],
   "source": [
    "h2_tag = page.find_all(\"div\", class_=\"1\")\n",
    "for ul_values in h2_tag:\n",
    "    ul_sib= ul_values.find_next_siblings('ul')\n",
    "    uls = ul_values.ul\n",
    "    \n",
    "    print(uls.find_next_sibling('ul'))\n",
    "    print(ul_sib) #Équipements\n",
    "    \n",
    "    # for tag in ul_sib.find_all(\"li\", recursive=True): \n",
    "    #     print(tag.text)\n",
    "    \n",
    "    # Get all values after br tag\n",
    "    for br_text in ul_values.find_next_siblings(text=True):\n",
    "        print(br_text.strip())"
   ]
  }
 ],
 "metadata": {
  "interpreter": {
   "hash": "63fd5069d213b44bf678585dea6b12cceca9941eaf7f819626cde1f2670de90d"
  },
  "kernelspec": {
   "display_name": "Python 3.9.7 64-bit",
   "language": "python",
   "name": "python3"
  },
  "language_info": {
   "codemirror_mode": {
    "name": "ipython",
    "version": 3
   },
   "file_extension": ".py",
   "mimetype": "text/x-python",
   "name": "python",
   "nbconvert_exporter": "python",
   "pygments_lexer": "ipython3",
   "version": "3.9.7"
  },
  "orig_nbformat": 4
 },
 "nbformat": 4,
 "nbformat_minor": 2
}
