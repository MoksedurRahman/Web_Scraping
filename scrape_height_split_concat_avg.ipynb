{
 "cells": [
  {
   "cell_type": "code",
   "execution_count": null,
   "metadata": {},
   "outputs": [],
   "source": [
    "#import libaries\n",
    "from bs4 import BeautifulSoup\n",
    "import requests"
   ]
  },
  {
   "cell_type": "code",
   "execution_count": null,
   "metadata": {},
   "outputs": [],
   "source": [
    "teams = {'key' : 'value'}"
   ]
  },
  {
   "cell_type": "code",
   "execution_count": null,
   "metadata": {},
   "outputs": [],
   "source": [
    "#Scrape the websites\n",
    "\n",
    "def scrape_data(team_type, url):\n",
    "\n",
    "  raw_heights = []\n",
    "  total_inches = 0.0\n",
    "\n",
    "  #making the request to the server\n",
    "  page = requests.get(url)\n",
    "\n",
    "  #printing the status code\n",
    "  print(f'{team_type} {page.status_code}')\n",
    "\n",
    "  #importing the raw html into beautiful soup\n",
    "  soup = BeautifulSoup(page.content, 'html.parser')\n",
    "\n",
    "  #collection all of the td tags with a class of height into a single list\n",
    "  all_relevant_td_tags = soup.find_all('td', class_ ='height' )\n",
    "\n",
    "  #printing all of the heights by extracting the contents of the td tags using get_text()\n",
    "  for height in all_relevant_td_tags:\n",
    "    raw_heights.append(height.get_text())\n",
    "    \n",
    "    #spliting feet & inches  to calculate average\n",
    "    height_split = height.get_text().split('-')\n",
    "    feet = int(height_split[0])\n",
    "    inches = int(height_split[1])\n",
    "    #convert to inches\n",
    "    total_inches += (12*feet + inches)\n",
    "  \n",
    "  print(raw_heights)\n",
    "  \n",
    "  #for average\n",
    "  print(\"Average\")\n",
    "  #Count from collection\n",
    "  total_count = len(all_relevant_td_tags)\n",
    "  #get Feet\n",
    "  average_feet = int(total_inches/(total_count*12))\n",
    "  #get inch\n",
    "  average_inch =int((total_inches/total_count)%12)\n",
    "  #concat feet & inch then print\n",
    "  print(str(average_feet) + '-'+ str(average_inch))"
   ]
  },
  {
   "cell_type": "code",
   "execution_count": null,
   "metadata": {},
   "outputs": [],
   "source": [
    "for key, value in teams.items():\n",
    "  #print(f'{key} {value}')\n",
    "  scrape_data(key, value)"
   ]
  }
 ],
 "metadata": {
  "language_info": {
   "name": "python"
  },
  "orig_nbformat": 4
 },
 "nbformat": 4,
 "nbformat_minor": 2
}
