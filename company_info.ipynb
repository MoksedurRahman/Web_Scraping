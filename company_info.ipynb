{
 "cells": [
  {
   "cell_type": "code",
   "execution_count": 2,
   "metadata": {},
   "outputs": [],
   "source": [
    "import pandas as pd\n",
    "import requests\n",
    "from bs4 import BeautifulSoup"
   ]
  },
  {
   "cell_type": "code",
   "execution_count": 59,
   "metadata": {},
   "outputs": [],
   "source": [
    "res = requests.get(r'https://www.bdtradeinfo.com/703/real-estate-firmsdevelopers/all/c/a?page=1')\n",
    "page = BeautifulSoup(res.content,'lxml')"
   ]
  },
  {
   "cell_type": "code",
   "execution_count": 19,
   "metadata": {},
   "outputs": [],
   "source": [
    "Quotes = []\n",
    "Company_Address = []   \n",
    "def extractPage(page):\n",
    "    companyNameDivs = page.findAll('div', attrs={'class' : 'mainbody-grid'})\n",
    "    for div in companyNameDivs:\n",
    "        for link in div.findAll('a', class_='nav12txt'):\n",
    "            # print(link.attrs['href'])\n",
    "            #Quotes.append([q, author, tags])\n",
    "            Quotes.append(link.attrs['href'])\n",
    "    "
   ]
  },
  {
   "cell_type": "code",
   "execution_count": 22,
   "metadata": {},
   "outputs": [
    {
     "ename": "NameError",
     "evalue": "name 'pattern' is not defined",
     "output_type": "error",
     "traceback": [
      "\u001b[1;31m---------------------------------------------------------------------------\u001b[0m",
      "\u001b[1;31mNameError\u001b[0m                                 Traceback (most recent call last)",
      "\u001b[1;32m~\\AppData\\Local\\Temp/ipykernel_5656/4140751283.py\u001b[0m in \u001b[0;36m<module>\u001b[1;34m\u001b[0m\n\u001b[0;32m     12\u001b[0m     \u001b[0mmainbody_grid\u001b[0m \u001b[1;33m=\u001b[0m \u001b[0mpage_cotent\u001b[0m\u001b[1;33m.\u001b[0m\u001b[0mfind\u001b[0m\u001b[1;33m(\u001b[0m\u001b[1;34m'div'\u001b[0m\u001b[1;33m,\u001b[0m\u001b[0mattrs\u001b[0m\u001b[1;33m=\u001b[0m\u001b[1;33m{\u001b[0m\u001b[1;34m'class'\u001b[0m\u001b[1;33m:\u001b[0m\u001b[1;34m'mainbody-grid'\u001b[0m\u001b[1;33m}\u001b[0m\u001b[1;33m)\u001b[0m\u001b[1;33m\u001b[0m\u001b[1;33m\u001b[0m\u001b[0m\n\u001b[0;32m     13\u001b[0m     \u001b[0mcompanyName\u001b[0m \u001b[1;33m=\u001b[0m \u001b[0mmainbody_grid\u001b[0m\u001b[1;33m.\u001b[0m\u001b[0mfind\u001b[0m\u001b[1;33m(\u001b[0m\u001b[1;34m'h3'\u001b[0m\u001b[1;33m,\u001b[0m\u001b[0mclass_\u001b[0m\u001b[1;33m=\u001b[0m\u001b[1;34m'text-primary'\u001b[0m\u001b[1;33m)\u001b[0m\u001b[1;33m\u001b[0m\u001b[1;33m\u001b[0m\u001b[0m\n\u001b[1;32m---> 14\u001b[1;33m     \u001b[0maddress\u001b[0m \u001b[1;33m=\u001b[0m \u001b[0mpage_cotent\u001b[0m\u001b[1;33m.\u001b[0m\u001b[0mfind\u001b[0m\u001b[1;33m(\u001b[0m\u001b[1;34m'address'\u001b[0m\u001b[1;33m,\u001b[0m \u001b[0mtext\u001b[0m \u001b[1;33m=\u001b[0m \u001b[0mpattern\u001b[0m\u001b[1;33m)\u001b[0m\u001b[1;33m\u001b[0m\u001b[1;33m\u001b[0m\u001b[0m\n\u001b[0m\u001b[0;32m     15\u001b[0m     \u001b[0mprint\u001b[0m\u001b[1;33m(\u001b[0m\u001b[0maddress\u001b[0m\u001b[1;33m)\u001b[0m\u001b[1;33m\u001b[0m\u001b[1;33m\u001b[0m\u001b[0m\n\u001b[0;32m     16\u001b[0m     \u001b[1;31m# print(mainbody_grid)\u001b[0m\u001b[1;33m\u001b[0m\u001b[1;33m\u001b[0m\u001b[0m\n",
      "\u001b[1;31mNameError\u001b[0m: name 'pattern' is not defined"
     ]
    }
   ],
   "source": [
    "for x in range(1,12):\n",
    "    x=str(x)\n",
    "    # url = 'https://www.bdtradeinfo.com/703/real-estate-firmsdevelopers/all/c/a?page='+x\n",
    "    url = 'https://www.bdtradeinfo.com/703/real-estate-firmsdevelopers/all/c/a?page=1'\n",
    "    res = requests.get(url)\n",
    "    page = BeautifulSoup(res.content, 'lxml')\n",
    "    extractPage(page)\n",
    "# print(Quotes) \n",
    "for url in Quotes:\n",
    "    res_url = requests.get(url)\n",
    "    page_cotent = BeautifulSoup(res_url.content,'lxml')\n",
    "    mainbody_grid = page_cotent.find('div',attrs={'class':'mainbody-grid'})\n",
    "    companyName = mainbody_grid.find('h3',class_='text-primary')\n",
    "    address = page_cotent.find('address', text = pattern)\n",
    "    print(address)\n",
    "    # print(mainbody_grid)\n",
    "    # Company_Address.append(companyName)"
   ]
  },
  {
   "cell_type": "code",
   "execution_count": null,
   "metadata": {},
   "outputs": [],
   "source": [
    "url = 'https://www.bdtradeinfo.com/703/real-estate-firmsdevelopers/all/c/a?page=1'\n",
    "while True:\n",
    "    res = requests.get(url)\n",
    "    page = BeautifulSoup(res.content, 'lxml')\n",
    "    extractPage(page)\n",
    "    try:\n",
    "        url = 'https://www.bdtradeinfo.com/703/real-estate-firmsdevelopers/all/c/a?page='+page.find('li', class_='next').a.attrs['href']\n",
    "        print(url)\n",
    "    except AttributeError as e:\n",
    "        print('There are No pages left')\n",
    "        break"
   ]
  },
  {
   "cell_type": "code",
   "execution_count": null,
   "metadata": {},
   "outputs": [],
   "source": [
    "companyNameDivs = page.findAll('div', attrs={'class' : 'mainbody-grid'})\n",
    "for div in companyNameDivs:\n",
    "    for link in div.findAll('a', class_='nav12txt'):\n",
    "        print(link.attrs['href'])"
   ]
  },
  {
   "cell_type": "code",
   "execution_count": 21,
   "metadata": {},
   "outputs": [],
   "source": [
    "Quotes = []\n",
    "def extractPage(page):\n",
    "    quotes = page.findAll('div', class_='mainbody-grid')\n",
    "    for quote in quotes:\n",
    "        q = quote.span.string\n",
    "        author = quote.small.string\n",
    "        tags = [tag.string for tag in quote.findAll('a', class_='nav12txt')]\n",
    "        #Quotes.append([q, author, tags])\n",
    "        Quotes.append([tags])"
   ]
  },
  {
   "cell_type": "code",
   "execution_count": 51,
   "metadata": {},
   "outputs": [
    {
     "name": "stdout",
     "output_type": "stream",
     "text": [
      "There are No pages left\n"
     ]
    }
   ],
   "source": [
    "url = 'https://www.bdtradeinfo.com/703/real-estate-firmsdevelopers/all/c/a?page=1'\n",
    "while True:\n",
    "    res = requests.get(url)\n",
    "    page = BeautifulSoup(res.content, 'lxml')\n",
    "    #extractPage(page)\n",
    "    try:\n",
    "        url = page.find('li', class_='page-item').a.attrs['href']\n",
    "        print(url)\n",
    "    except AttributeError as e:\n",
    "        print('There are No pages left')\n",
    "        break"
   ]
  },
  {
   "cell_type": "code",
   "execution_count": null,
   "metadata": {},
   "outputs": [],
   "source": [
    "url = 'https://quotes.toscrape.com'\n",
    "while True:\n",
    "    res = requests.get(url)\n",
    "    page = BeautifulSoup(res.content, 'lxml')\n",
    "    extractPage(page)\n",
    "    try:\n",
    "        url = 'https://quotes.toscrape.com'+page.find('li', class_='next').a.attrs['href']\n",
    "        print(url)\n",
    "    except AttributeError as e:\n",
    "        print('There are No pages left')\n",
    "        break"
   ]
  },
  {
   "cell_type": "code",
   "execution_count": 26,
   "metadata": {},
   "outputs": [
    {
     "data": {
      "text/plain": [
       "'/static/bootstrap.min.css'"
      ]
     },
     "execution_count": 26,
     "metadata": {},
     "output_type": "execute_result"
    }
   ],
   "source": [
    "res = requests.get(r'https://quotes.toscrape.com/')\n",
    "page = BeautifulSoup(res.content, 'lxml')\n",
    "page.link.attrs['href']"
   ]
  },
  {
   "cell_type": "code",
   "execution_count": 27,
   "metadata": {},
   "outputs": [
    {
     "name": "stdout",
     "output_type": "stream",
     "text": [
      "/static/bootstrap.min.css\n",
      "/static/main.css\n"
     ]
    }
   ],
   "source": [
    "for link in page.findAll('link'):\n",
    "    print(link.attrs['href'])"
   ]
  },
  {
   "cell_type": "code",
   "execution_count": null,
   "metadata": {},
   "outputs": [],
   "source": [
    "for link in page.findAll('a', class_=\"tag\"):\n",
    "    print(link.attrs['href'])"
   ]
  },
  {
   "cell_type": "code",
   "execution_count": 29,
   "metadata": {},
   "outputs": [
    {
     "name": "stdout",
     "output_type": "stream",
     "text": [
      "/tag/adulthood/page/1/\n"
     ]
    }
   ],
   "source": [
    "for link in page.findAll('a', attrs={'href':\"/tag/adulthood/page/1/\"}):\n",
    "    print(link.attrs['href'])"
   ]
  },
  {
   "cell_type": "code",
   "execution_count": 30,
   "metadata": {},
   "outputs": [
    {
     "data": {
      "text/plain": [
       "'“The world as we have created it is a process of our thinking. It cannot be changed without changing our thinking.”'"
      ]
     },
     "execution_count": 30,
     "metadata": {},
     "output_type": "execute_result"
    }
   ],
   "source": [
    "page.find('div', class_='quote').span.string"
   ]
  },
  {
   "cell_type": "code",
   "execution_count": 35,
   "metadata": {},
   "outputs": [],
   "source": [
    "# page.findAll('div', class_='quote')\n",
    "#page.findAll('div', class_='quote')\n",
    "quotes = page.findAll('div', class_='quote')"
   ]
  },
  {
   "cell_type": "code",
   "execution_count": 36,
   "metadata": {},
   "outputs": [
    {
     "data": {
      "text/plain": [
       "['change', 'deep-thoughts', 'thinking', 'world']"
      ]
     },
     "execution_count": 36,
     "metadata": {},
     "output_type": "execute_result"
    }
   ],
   "source": [
    "tags = [tag.string for tag in page.find('div', class_='quote').findAll('a', class_='tag')]\n",
    "tags"
   ]
  }
 ],
 "metadata": {
  "interpreter": {
   "hash": "63fd5069d213b44bf678585dea6b12cceca9941eaf7f819626cde1f2670de90d"
  },
  "kernelspec": {
   "display_name": "Python 3.9.7 64-bit",
   "language": "python",
   "name": "python3"
  },
  "language_info": {
   "codemirror_mode": {
    "name": "ipython",
    "version": 3
   },
   "file_extension": ".py",
   "mimetype": "text/x-python",
   "name": "python",
   "nbconvert_exporter": "python",
   "pygments_lexer": "ipython3",
   "version": "3.9.7"
  },
  "orig_nbformat": 4
 },
 "nbformat": 4,
 "nbformat_minor": 2
}
